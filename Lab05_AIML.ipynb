{
  "cells": [
    {
      "cell_type": "markdown",
      "metadata": {
        "id": "view-in-github",
        "colab_type": "text"
      },
      "source": [
        "<a href=\"https://colab.research.google.com/github/2403A51L44/AIML_2025/blob/main/Lab05_AIML.ipynb\" target=\"_parent\"><img src=\"https://colab.research.google.com/assets/colab-badge.svg\" alt=\"Open In Colab\"/></a>"
      ]
    },
    {
      "cell_type": "code",
      "execution_count": null,
      "id": "655e8563",
      "metadata": {
        "id": "655e8563"
      },
      "outputs": [],
      "source": [
        "# Importing libraries and loading data\n",
        "import pandas as pd\n",
        "import numpy as np\n",
        "import matplotlib.pyplot as plt\n",
        "import seaborn as sns\n",
        "from sklearn.model_selection import train_test_split\n",
        "from sklearn.linear_model import LogisticRegression\n",
        "from sklearn.metrics import classification_report\n",
        "\n",
        "train = pd.read_csv('titanic_train.csv')"
      ]
    },
    {
      "cell_type": "code",
      "execution_count": null,
      "id": "71a8d716",
      "metadata": {
        "id": "71a8d716"
      },
      "outputs": [],
      "source": [
        "# Exploratory data analysis\n",
        "train.info(verbose=True)\n",
        "d = train.describe()\n",
        "d"
      ]
    },
    {
      "cell_type": "code",
      "execution_count": null,
      "id": "040c7439",
      "metadata": {
        "id": "040c7439"
      },
      "outputs": [],
      "source": [
        "# Exploratory analysis and plots\n",
        "dT = d.T\n",
        "dT.plot.bar(y='count')\n",
        "plt.title(\"Bar plot of the count of numeric features\", fontsize=17)\n",
        "plt.show()"
      ]
    },
    {
      "cell_type": "code",
      "execution_count": null,
      "id": "b7ddd8d6",
      "metadata": {
        "id": "b7ddd8d6"
      },
      "outputs": [],
      "source": [
        "#Check the relative size of survived and not-survived\n",
        "sns.set_style('whitegrid')\n",
        "sns.countplot(x='Survived', data=train, palette='RdBu_r')\n",
        "plt.show()\n",
        "sns.pairplot(train)\n",
        "plt.show()"
      ]
    },
    {
      "cell_type": "code",
      "execution_count": null,
      "id": "e4ddcbcb",
      "metadata": {
        "id": "e4ddcbcb"
      },
      "outputs": [],
      "source": [
        "#Is there a pattern for survivability based on sex\n",
        "sns.set_style('whitegrid')\n",
        "sns.countplot(x='Survived', hue='Sex', data=train, palette='RdBu_r')\n",
        "plt.show()"
      ]
    },
    {
      "cell_type": "code",
      "execution_count": null,
      "id": "f266798e",
      "metadata": {
        "id": "f266798e"
      },
      "outputs": [],
      "source": [
        "#sss\n",
        "sns.set_style('whitegrid')\n",
        "sns.countplot(x='Survived', hue='Pclass', data=train, palette='rainbow')\n",
        "plt.show()"
      ]
    },
    {
      "cell_type": "code",
      "execution_count": null,
      "id": "b4a4ca0f",
      "metadata": {
        "id": "b4a4ca0f"
      },
      "outputs": [],
      "source": [
        "#\n",
        "f_class_survived = train.groupby('Pclass')['Survived'].mean()\n",
        "f_class_survived = pd.DataFrame(f_class_survived)\n",
        "f_class_survived\n",
        "f_class_survived.plot.bar(y='Survived')\n",
        "plt.title(\"Fraction of passengers survived by class\", fontsize=17)\n",
        "plt.show()\n",
        "sns.countplot(x='Survived', data=f_class_survived, palette='rainbow')\n",
        "plt.show()"
      ]
    },
    {
      "cell_type": "code",
      "execution_count": null,
      "id": "d5d28fc0",
      "metadata": {
        "id": "d5d28fc0"
      },
      "outputs": [],
      "source": [
        "#\n",
        "sns.set_style('whitegrid')\n",
        "sns.countplot(x='Survived', hue='SibSp', data=train, palette='rainbow')\n",
        "plt.show()"
      ]
    },
    {
      "cell_type": "code",
      "execution_count": null,
      "id": "51877091",
      "metadata": {
        "id": "51877091"
      },
      "outputs": [],
      "source": [
        "#\n",
        "plt.xlabel(\"Age of the passengers\", fontsize=)\n",
        "plt.ylabel(\"Count\", fontsize=)\n",
        "plt.title(\"Histogram of the passengers\", fontsize=)\n",
        "train['Age'].hist()\n",
        "plt.show()"
      ]
    },
    {
      "cell_type": "code",
      "execution_count": null,
      "id": "ed4dcf12",
      "metadata": {
        "id": "ed4dcf12"
      },
      "outputs": [],
      "source": [
        "#\n",
        "plt.figure(figsize=(12, 10))\n",
        "plt.xlabel(\"Passenger Class\", fontsize=)\n",
        "plt.ylabel(\"Age\", fontsize=)\n",
        "sns.boxplot(x='Pclass', y='Age', data=train, palette='winter')\n",
        "plt.show()"
      ]
    },
    {
      "cell_type": "code",
      "execution_count": null,
      "id": "b910b3f6",
      "metadata": {
        "id": "b910b3f6"
      },
      "outputs": [],
      "source": [
        "#\n",
        "f_class_Age = train.groupby('Pclass')['Age'].mean()\n",
        "f_class_Age = pd.DataFrame(f_class_Age)"
      ]
    },
    {
      "cell_type": "code",
      "execution_count": null,
      "id": "237441db",
      "metadata": {
        "id": "237441db"
      },
      "outputs": [],
      "source": [
        "#\n",
        "f_class_Age.plot.bar(y='Age')\n",
        "plt.title(\"Average age of passengers by class\", fontsize=)\n",
        "plt.ylabel(\"Age (years)\", fontsize=)\n",
        "plt.xlabel(\"Passenger class\", fontsize=)\n",
        "plt.show()"
      ]
    },
    {
      "cell_type": "code",
      "execution_count": null,
      "id": "08f1b89c",
      "metadata": {
        "id": "08f1b89c"
      },
      "outputs": [],
      "source": [
        "# Data wrangling (impute and drop)\n",
        "a = list(f_class_Age['Age'])"
      ]
    },
    {
      "cell_type": "code",
      "execution_count": null,
      "id": "06c20559",
      "metadata": {
        "id": "06c20559"
      },
      "outputs": [],
      "source": [
        "#\n",
        "def impute_age(cols):\n",
        "    Age = cols[0]\n",
        "    Pclass = cols[1]\n",
        "\n",
        "    if pd.isnull(Age):\n",
        "        if Pclass == 1:\n",
        "            return a[0]\n",
        "        elif Pclass == 2:\n",
        "            return a[1]\n",
        "        else:\n",
        "            return a[2]\n",
        "    else:\n",
        "        return Age"
      ]
    },
    {
      "cell_type": "code",
      "execution_count": null,
      "id": "5c647ce7",
      "metadata": {
        "id": "5c647ce7"
      },
      "outputs": [],
      "source": [
        "#\n",
        "train['Age'] = train[['Age', 'Pclass']].apply(impute_age, axis=1)\n"
      ]
    },
    {
      "cell_type": "code",
      "execution_count": null,
      "id": "8a4bc28a",
      "metadata": {
        "id": "8a4bc28a"
      },
      "outputs": [],
      "source": [
        "#\n",
        "train.drop('Cabin', axis=1, inplace=True)\n"
      ]
    },
    {
      "cell_type": "code",
      "execution_count": null,
      "id": "083608a4",
      "metadata": {
        "id": "083608a4"
      },
      "outputs": [],
      "source": [
        "# Encoding categorical variables\n",
        "train['Sex'] = train['Sex'].map({'male': 0, 'female': 1})\n"
      ]
    },
    {
      "cell_type": "code",
      "execution_count": null,
      "id": "c5a978fb",
      "metadata": {
        "id": "c5a978fb"
      },
      "outputs": [],
      "source": [
        "# Feature scaling\n",
        "from sklearn.preprocessing import StandardScaler\n",
        "sc = StandardScaler()\n",
        "train[['Age', 'SibSp', 'Parch', 'Fare']] = sc.fit_transform(train[['Age', 'SibSp', 'Parch', 'Fare']])\n"
      ]
    },
    {
      "cell_type": "code",
      "execution_count": null,
      "id": "441d541d",
      "metadata": {
        "id": "441d541d"
      },
      "outputs": [],
      "source": [
        "# Splitting data into training and testing sets\n",
        "X = train.drop('Survived', axis=1)\n",
        "y = train['Survived']\n"
      ]
    },
    {
      "cell_type": "code",
      "execution_count": null,
      "id": "7cb45135",
      "metadata": {
        "id": "7cb45135"
      },
      "outputs": [],
      "source": [
        "#\n",
        "X_train, X_test, y_train, y_test = train_test_split(X, y, test_size=0.2, random_state=42)\n"
      ]
    },
    {
      "cell_type": "code",
      "execution_count": null,
      "id": "934870ff",
      "metadata": {
        "id": "934870ff"
      },
      "outputs": [],
      "source": [
        "# Logistic Regression\n",
        "logreg = LogisticRegression()\n",
        "logreg.fit(X_train, y_train)\n"
      ]
    },
    {
      "cell_type": "code",
      "execution_count": null,
      "id": "ddf4e375",
      "metadata": {
        "id": "ddf4e375"
      },
      "outputs": [],
      "source": [
        "#\n",
        "y_pred = logreg.predict(X_test)\n"
      ]
    },
    {
      "cell_type": "code",
      "execution_count": null,
      "id": "3d87c877",
      "metadata": {
        "id": "3d87c877"
      },
      "outputs": [],
      "source": [
        "#\n",
        "print(classification_report(y_test, y_pred))\n"
      ]
    },
    {
      "cell_type": "code",
      "execution_count": null,
      "id": "6ecd21dc",
      "metadata": {
        "id": "6ecd21dc"
      },
      "outputs": [],
      "source": [
        "# Cross-validation\n",
        "from sklearn.model_selection import cross_val_score\n",
        "scores = cross_val_score(logreg, X, y, cv=10, scoring='accuracy')\n",
        "print(\"Cross-validation scores: \", scores)\n",
        "print(\"Average cross-validation score: \", scores.mean())\n"
      ]
    },
    {
      "cell_type": "code",
      "execution_count": null,
      "id": "340eba3c",
      "metadata": {
        "id": "340eba3c"
      },
      "outputs": [],
      "source": [
        "# Predicting on test data\n",
        "test = pd.read_csv('titanic_test.csv')\n"
      ]
    },
    {
      "cell_type": "code",
      "execution_count": null,
      "id": "7d479e41",
      "metadata": {
        "id": "7d479e41"
      },
      "outputs": [],
      "source": [
        "#\n",
        "test['Age'] = test[['Age', 'Pclass']].apply(impute_age, axis=1)\n"
      ]
    },
    {
      "cell_type": "code",
      "execution_count": null,
      "id": "c5bfeaca",
      "metadata": {
        "id": "c5bfeaca"
      },
      "outputs": [],
      "source": [
        "#\n",
        "test.drop('Cabin', axis=1, inplace=True)\n"
      ]
    },
    {
      "cell_type": "code",
      "execution_count": null,
      "id": "373ea9ee",
      "metadata": {
        "id": "373ea9ee"
      },
      "outputs": [],
      "source": [
        "#\n",
        "test[['Age', 'SibSp', 'Parch', 'Fare']] = sc.transform(test[['Age', 'SibSp', 'Parch', 'Fare']])\n"
      ]
    },
    {
      "cell_type": "code",
      "execution_count": null,
      "id": "7225ae82",
      "metadata": {
        "id": "7225ae82"
      },
      "outputs": [],
      "source": [
        "#\n",
        "predictions = logreg.predict(test.drop('PassengerId', axis=1))\n"
      ]
    },
    {
      "cell_type": "code",
      "execution_count": null,
      "id": "cbb1b84d",
      "metadata": {
        "id": "cbb1b84d"
      },
      "outputs": [],
      "source": [
        "#\n",
        "submission = pd.DataFrame({'PassengerId': test['PassengerId'], 'Survived': predictions})\n",
        "submission.to_csv('submission.csv', index=False)\n"
      ]
    },
    {
      "cell_type": "code",
      "execution_count": null,
      "id": "393daafb",
      "metadata": {
        "id": "393daafb"
      },
      "outputs": [],
      "source": [
        "#\n",
        "[[1](https://github.com/mnassrib/Titanic-logistic-regression-with-python/blob/master/log"
      ]
    }
  ],
  "metadata": {
    "kernelspec": {
      "display_name": "Python 3 (ipykernel)",
      "language": "python",
      "name": "python3"
    },
    "language_info": {
      "codemirror_mode": {
        "name": "ipython",
        "version": 3
      },
      "file_extension": ".py",
      "mimetype": "text/x-python",
      "name": "python",
      "nbconvert_exporter": "python",
      "pygments_lexer": "ipython3",
      "version": "3.11.7"
    },
    "colab": {
      "provenance": [],
      "include_colab_link": true
    }
  },
  "nbformat": 4,
  "nbformat_minor": 5
}